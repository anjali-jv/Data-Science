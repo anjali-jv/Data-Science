{
  "nbformat": 4,
  "nbformat_minor": 0,
  "metadata": {
    "colab": {
      "provenance": []
    },
    "kernelspec": {
      "name": "python3",
      "display_name": "Python 3"
    },
    "language_info": {
      "name": "python"
    }
  },
  "cells": [
    {
      "cell_type": "markdown",
      "source": [
        "## Q1"
      ],
      "metadata": {
        "id": "qSaXiQGXXjVI"
      }
    },
    {
      "cell_type": "code",
      "source": [
        "# Do NOT modify this block of code\n",
        "\n",
        "import numpy as np\n",
        "import numpy.typing as npt\n",
        "import matplotlib.pyplot as plt"
      ],
      "metadata": {
        "id": "bgoGkcVpyDR2"
      },
      "execution_count": null,
      "outputs": []
    },
    {
      "cell_type": "code",
      "source": [
        "# Do NOT modify this block of code\n",
        "n = 200\n",
        "\n",
        "rand_x = np.random.RandomState(0)\n",
        "x = rand_x.randint(1, 100, (n, 1))\n",
        "\n",
        "rand_noise = np.random.RandomState(10)\n",
        "y = 2.13 * x - 50.84 + 10*rand_noise.randn(n, 1)"
      ],
      "metadata": {
        "id": "whQP5MHG0igx"
      },
      "execution_count": null,
      "outputs": []
    },
    {
      "cell_type": "code",
      "source": [
        "def fit_regression_line(x: npt.NDArray[np.float64], y: npt.NDArray[np.float64]) -> npt.NDArray[np.float64]:\n",
        "\n",
        "    ## Your code starts here ##\n",
        "    x = x.flatten()\n",
        "    y = y.flatten()\n",
        "    x_bar = np.mean(x)\n",
        "    y_bar = np.mean(y)\n",
        "\n",
        "    beta_1 = np.sum((x-x_bar)*(y-y_bar))/np.sum((x-x_bar)**2)\n",
        "\n",
        "    beta_0 = y_bar - beta_1 * x_bar\n",
        "\n",
        "    return np.array([beta_0, beta_1])\n",
        "    ## end ##\n",
        "\n"
      ],
      "metadata": {
        "id": "0jNAi8IZZWJY"
      },
      "execution_count": null,
      "outputs": []
    },
    {
      "cell_type": "code",
      "source": [
        "# Do NOT modify this block of code.\n",
        "# If this code cell run without any 'AssertionError', then your function 'fit_regression_line' is returning a numpy array with the correct shape.\n",
        "assert fit_regression_line(x, y).shape == (2, )"
      ],
      "metadata": {
        "id": "OOY5FcLJJJa_"
      },
      "execution_count": null,
      "outputs": []
    },
    {
      "cell_type": "code",
      "source": [
        "# Do NOT modify this block of code\n",
        "def rmse(x: npt.NDArray[np.float64], y: npt.NDArray[np.float64]) -> np.float64:\n",
        "    beta_0, beta_1 = fit_regression_line(x, y)\n",
        "\n",
        "    y_hat = beta_1 * x + beta_0\n",
        "\n",
        "    return np.sqrt(np.mean((y - y_hat)**2))\n",
        "\n",
        "print(f\"RMSE score is: {np.round(rmse(x, y), 4)}\")"
      ],
      "metadata": {
        "id": "L0R42AyagX1L",
        "colab": {
          "base_uri": "https://localhost:8080/"
        },
        "outputId": "8ae1428e-89b3-4c44-b0f4-9f7edd12f044"
      },
      "execution_count": null,
      "outputs": [
        {
          "output_type": "stream",
          "name": "stdout",
          "text": [
            "RMSE score is: 9.7621\n"
          ]
        }
      ]
    },
    {
      "cell_type": "code",
      "source": [
        "# Do NOT modify this block of code\n",
        "def r_squared(x: npt.NDArray[np.float64], y: npt.NDArray[np.float64]) -> np.float64:\n",
        "    beta_0, beta_1 = fit_regression_line(x, y)\n",
        "\n",
        "    y_hat = beta_1 * x + beta_0\n",
        "\n",
        "    return (np.corrcoef(y_hat, y, rowvar=False)[0, 1])**2\n",
        "\n",
        "print(f\"R-Squared score is: {np.round(r_squared(x, y), 4)}\")"
      ],
      "metadata": {
        "id": "gRepVbjwg9UN",
        "colab": {
          "base_uri": "https://localhost:8080/"
        },
        "outputId": "93fe3108-1a49-416d-9bfe-9e011ec9665d"
      },
      "execution_count": null,
      "outputs": [
        {
          "output_type": "stream",
          "name": "stdout",
          "text": [
            "R-Squared score is: 0.9737\n"
          ]
        }
      ]
    },
    {
      "cell_type": "code",
      "source": [
        "# Do NOT modify this block of code\n",
        "def plot_predictions(x: npt.NDArray[np.float64], y: npt.NDArray[np.float64]) -> None:\n",
        "    beta_0, beta_1 = fit_regression_line(x, y)\n",
        "\n",
        "    y_hat = beta_1 * x + beta_0\n",
        "\n",
        "    plt.scatter(x.flatten(), y.flatten(), color=plt.cm.tab10(0), label='Actual')\n",
        "    plt.plot(x.flatten(), y_hat.flatten(), color=plt.cm.tab10(1), linewidth=2.5, label='Prediction')\n",
        "\n",
        "    plt.legend()\n",
        "    plt.xlabel(\"x\")\n",
        "    plt.ylabel(\"y\")\n",
        "\n",
        "    plt.show()\n",
        "\n",
        "plot_predictions(x, y)"
      ],
      "metadata": {
        "id": "n5Ae6X6_bS_2",
        "colab": {
          "base_uri": "https://localhost:8080/",
          "height": 449
        },
        "collapsed": true,
        "outputId": "4b447036-6ef3-4e2f-9aec-adf19737ffb1"
      },
      "execution_count": null,
      "outputs": [
        {
          "output_type": "display_data",
          "data": {
            "text/plain": [
              "<Figure size 640x480 with 1 Axes>"
            ],
            "image/png": "[encoded data removed]"
          },
          "metadata": {}
        }
      ]
    },
    {
      "cell_type": "code",
      "source": [
        "# Do NOT modify this block of code\n",
        "\n",
        "import pandas as pd"
      ],
      "metadata": {
        "id": "JI2yre9Gzr0i"
      },
      "execution_count": null,
      "outputs": []
    },
    {
      "cell_type": "markdown",
      "source": [
        "## Q2(a)"
      ],
      "metadata": {
        "id": "mVNsj07wz49F"
      }
    },
    {
      "cell_type": "code",
      "source": [
        "# Do NOT modify this block of code\n",
        "\n",
        "import seaborn as sns\n",
        "\n",
        "iris_df = sns.load_dataset('iris')\n",
        "print(iris_df.shape)\n",
        "iris_df.head()"
      ],
      "metadata": {
        "id": "vijvp4DwZTei",
        "colab": {
          "base_uri": "https://localhost:8080/",
          "height": 223
        },
        "outputId": "d9887d23-c1fa-4924-b257-aeeddba97c9a"
      },
      "execution_count": null,
      "outputs": [
        {
          "output_type": "stream",
          "name": "stdout",
          "text": [
            "(150, 5)\n"
          ]
        },
        {
          "output_type": "execute_result",
          "data": {
            "text/plain": [
              "   sepal_length  sepal_width  petal_length  petal_width species\n",
              "0           5.1          3.5           1.4          0.2  setosa\n",
              "1           4.9          3.0           1.4          0.2  setosa\n",
              "2           4.7          3.2           1.3          0.2  setosa\n",
              "3           4.6          3.1           1.5          0.2  setosa\n",
              "4           5.0          3.6           1.4          0.2  setosa"
            ],
            "text/html": [
              "\n",
              "  <div id=\"df-aee269c2-af0c-4a24-927d-084d303e36d0\" class=\"colab-df-container\">\n",
              "    <div>\n",
              "<style scoped>\n",
              "    .dataframe tbody tr th:only-of-type {\n",
              "        vertical-align: middle;\n",
              "    }\n",
              "\n",
              "    .dataframe tbody tr th {\n",
              "        vertical-align: top;\n",
              "    }\n",
              "\n",
              "    .dataframe thead th {\n",
              "        text-align: right;\n",
              "    }\n",
              "</style>\n",
              "<table border=\"1\" class=\"dataframe\">\n",
              "  <thead>\n",
              "    <tr style=\"text-align: right;\">\n",
              "      <th></th>\n",
              "      <th>sepal_length</th>\n",
              "      <th>sepal_width</th>\n",
              "      <th>petal_length</th>\n",
              "      <th>petal_width</th>\n",
              "      <th>species</th>\n",
              "    </tr>\n",
              "  </thead>\n",
              "  <tbody>\n",
              "    <tr>\n",
              "      <th>0</th>\n",
              "      <td>5.1</td>\n",
              "      <td>3.5</td>\n",
              "      <td>1.4</td>\n",
              "      <td>0.2</td>\n",
              "      <td>setosa</td>\n",
              "    </tr>\n",
              "    <tr>\n",
              "      <th>1</th>\n",
              "      <td>4.9</td>\n",
              "      <td>3.0</td>\n",
              "      <td>1.4</td>\n",
              "      <td>0.2</td>\n",
              "      <td>setosa</td>\n",
              "    </tr>\n",
              "    <tr>\n",
              "      <th>2</th>\n",
              "      <td>4.7</td>\n",
              "      <td>3.2</td>\n",
              "      <td>1.3</td>\n",
              "      <td>0.2</td>\n",
              "      <td>setosa</td>\n",
              "    </tr>\n",
              "    <tr>\n",
              "      <th>3</th>\n",
              "      <td>4.6</td>\n",
              "      <td>3.1</td>\n",
              "      <td>1.5</td>\n",
              "      <td>0.2</td>\n",
              "      <td>setosa</td>\n",
              "    </tr>\n",
              "    <tr>\n",
              "      <th>4</th>\n",
              "      <td>5.0</td>\n",
              "      <td>3.6</td>\n",
              "      <td>1.4</td>\n",
              "      <td>0.2</td>\n",
              "      <td>setosa</td>\n",
              "    </tr>\n",
              "  </tbody>\n",
              "</table>\n",
              "</div>\n",
              "    <div class=\"colab-df-buttons\">\n",
              "\n",
              "  <div class=\"colab-df-container\">\n",
              "    <button class=\"colab-df-convert\" onclick=\"convertToInteractive('df-aee269c2-af0c-4a24-927d-084d303e36d0')\"\n",
              "            title=\"Convert this dataframe to an interactive table.\"\n",
              "            style=\"display:none;\">\n",
              "\n",
              "  <svg xmlns=\"http://www.w3.org/2000/svg\" height=\"24px\" viewBox=\"0 -960 960 960\">\n",
              "    <path d=\"M120-120v-720h720v720H120Zm60-500h600v-160H180v160Zm220 220h160v-160H400v160Zm0 220h160v-160H400v160ZM180-400h160v-160H180v160Zm440 0h160v-160H620v160ZM180-180h160v-160H180v160Zm440 0h160v-160H620v160Z\"/>\n",
              "  </svg>\n",
              "    </button>\n",
              "\n",
              "  <style>\n",
              "    .colab-df-container {\n",
              "      display:flex;\n",
              "      gap: 12px;\n",
              "    }\n",
              "\n",
              "    .colab-df-convert {\n",
              "      background-color: #E8F0FE;\n",
              "      border: none;\n",
              "      border-radius: 50%;\n",
              "      cursor: pointer;\n",
              "      display: none;\n",
              "      fill: #1967D2;\n",
              "      height: 32px;\n",
              "      padding: 0 0 0 0;\n",
              "      width: 32px;\n",
              "    }\n",
              "\n",
              "    .colab-df-convert:hover {\n",
              "      background-color: #E2EBFA;\n",
              "      box-shadow: 0px 1px 2px rgba(60, 64, 67, 0.3), 0px 1px 3px 1px rgba(60, 64, 67, 0.15);\n",
              "      fill: #174EA6;\n",
              "    }\n",
              "\n",
              "    .colab-df-buttons div {\n",
              "      margin-bottom: 4px;\n",
              "    }\n",
              "\n",
              "    [theme=dark] .colab-df-convert {\n",
              "      background-color: #3B4455;\n",
              "      fill: #D2E3FC;\n",
              "    }\n",
              "\n",
              "    [theme=dark] .colab-df-convert:hover {\n",
              "      background-color: #434B5C;\n",
              "      box-shadow: 0px 1px 3px 1px rgba(0, 0, 0, 0.15);\n",
              "      filter: drop-shadow(0px 1px 2px rgba(0, 0, 0, 0.3));\n",
              "      fill: #FFFFFF;\n",
              "    }\n",
              "  </style>\n",
              "\n",
              "    <script>\n",
              "      const buttonEl =\n",
              "        document.querySelector('#df-aee269c2-af0c-4a24-927d-084d303e36d0 button.colab-df-convert');\n",
              "      buttonEl.style.display =\n",
              "        google.colab.kernel.accessAllowed ? 'block' : 'none';\n",
              "\n",
              "      async function convertToInteractive(key) {\n",
              "        const element = document.querySelector('#df-aee269c2-af0c-4a24-927d-084d303e36d0');\n",
              "        const dataTable =\n",
              "          await google.colab.kernel.invokeFunction('convertToInteractive',\n",
              "                                                    [key], {});\n",
              "        if (!dataTable) return;\n",
              "\n",
              "        const docLinkHtml = 'Like what you see? Visit the ' +\n",
              "          '<a target=\"_blank\" href=https://colab.research.google.com/notebooks/data_table.ipynb>data table notebook</a>'\n",
              "          + ' to learn more about interactive tables.';\n",
              "        element.innerHTML = '';\n",
              "        dataTable['output_type'] = 'display_data';\n",
              "        await google.colab.output.renderOutput(dataTable, element);\n",
              "        const docLink = document.createElement('div');\n",
              "        docLink.innerHTML = docLinkHtml;\n",
              "        element.appendChild(docLink);\n",
              "      }\n",
              "    </script>\n",
              "  </div>\n",
              "\n",
              "\n",
              "<div id=\"df-82cd7592-b820-4e88-b70f-25ae02f77b61\">\n",
              "  <button class=\"colab-df-quickchart\" onclick=\"quickchart('df-82cd7592-b820-4e88-b70f-25ae02f77b61')\"\n",
              "            title=\"Suggest charts\"\n",
              "            style=\"display:none;\">\n",
              "\n",
              "<svg xmlns=\"http://www.w3.org/2000/svg\" height=\"24px\"viewBox=\"0 0 24 24\"\n",
              "     width=\"24px\">\n",
              "    <g>\n",
              "        <path d=\"M19 3H5c-1.1 0-2 .9-2 2v14c0 1.1.9 2 2 2h14c1.1 0 2-.9 2-2V5c0-1.1-.9-2-2-2zM9 17H7v-7h2v7zm4 0h-2V7h2v10zm4 0h-2v-4h2v4z\"/>\n",
              "    </g>\n",
              "</svg>\n",
              "  </button>\n",
              "\n",
              "<style>\n",
              "  .colab-df-quickchart {\n",
              "      --bg-color: #E8F0FE;\n",
              "      --fill-color: #1967D2;\n",
              "      --hover-bg-color: #E2EBFA;\n",
              "      --hover-fill-color: #174EA6;\n",
              "      --disabled-fill-color: #AAA;\n",
              "      --disabled-bg-color: #DDD;\n",
              "  }\n",
              "\n",
              "  [theme=dark] .colab-df-quickchart {\n",
              "      --bg-color: #3B4455;\n",
              "      --fill-color: #D2E3FC;\n",
              "      --hover-bg-color: #434B5C;\n",
              "      --hover-fill-color: #FFFFFF;\n",
              "      --disabled-bg-color: #3B4455;\n",
              "      --disabled-fill-color: #666;\n",
              "  }\n",
              "\n",
              "  .colab-df-quickchart {\n",
              "    background-color: var(--bg-color);\n",
              "    border: none;\n",
              "    border-radius: 50%;\n",
              "    cursor: pointer;\n",
              "    display: none;\n",
              "    fill: var(--fill-color);\n",
              "    height: 32px;\n",
              "    padding: 0;\n",
              "    width: 32px;\n",
              "  }\n",
              "\n",
              "  .colab-df-quickchart:hover {\n",
              "    background-color: var(--hover-bg-color);\n",
              "    box-shadow: 0 1px 2px rgba(60, 64, 67, 0.3), 0 1px 3px 1px rgba(60, 64, 67, 0.15);\n",
              "    fill: var(--button-hover-fill-color);\n",
              "  }\n",
              "\n",
              "  .colab-df-quickchart-complete:disabled,\n",
              "  .colab-df-quickchart-complete:disabled:hover {\n",
              "    background-color: var(--disabled-bg-color);\n",
              "    fill: var(--disabled-fill-color);\n",
              "    box-shadow: none;\n",
              "  }\n",
              "\n",
              "  .colab-df-spinner {\n",
              "    border: 2px solid var(--fill-color);\n",
              "    border-color: transparent;\n",
              "    border-bottom-color: var(--fill-color);\n",
              "    animation:\n",
              "      spin 1s steps(1) infinite;\n",
              "  }\n",
              "\n",
              "  @keyframes spin {\n",
              "    0% {\n",
              "      border-color: transparent;\n",
              "      border-bottom-color: var(--fill-color);\n",
              "      border-left-color: var(--fill-color);\n",
              "    }\n",
              "    20% {\n",
              "      border-color: transparent;\n",
              "      border-left-color: var(--fill-color);\n",
              "      border-top-color: var(--fill-color);\n",
              "    }\n",
              "    30% {\n",
              "      border-color: transparent;\n",
              "      border-left-color: var(--fill-color);\n",
              "      border-top-color: var(--fill-color);\n",
              "      border-right-color: var(--fill-color);\n",
              "    }\n",
              "    40% {\n",
              "      border-color: transparent;\n",
              "      border-right-color: var(--fill-color);\n",
              "      border-top-color: var(--fill-color);\n",
              "    }\n",
              "    60% {\n",
              "      border-color: transparent;\n",
              "      border-right-color: var(--fill-color);\n",
              "    }\n",
              "    80% {\n",
              "      border-color: transparent;\n",
              "      border-right-color: var(--fill-color);\n",
              "      border-bottom-color: var(--fill-color);\n",
              "    }\n",
              "    90% {\n",
              "      border-color: transparent;\n",
              "      border-bottom-color: var(--fill-color);\n",
              "    }\n",
              "  }\n",
              "</style>\n",
              "\n",
              "  <script>\n",
              "    async function quickchart(key) {\n",
              "      const quickchartButtonEl =\n",
              "        document.querySelector('#' + key + ' button');\n",
              "      quickchartButtonEl.disabled = true;  // To prevent multiple clicks.\n",
              "      quickchartButtonEl.classList.add('colab-df-spinner');\n",
              "      try {\n",
              "        const charts = await google.colab.kernel.invokeFunction(\n",
              "            'suggestCharts', [key], {});\n",
              "      } catch (error) {\n",
              "        console.error('Error during call to suggestCharts:', error);\n",
              "      }\n",
              "      quickchartButtonEl.classList.remove('colab-df-spinner');\n",
              "      quickchartButtonEl.classList.add('colab-df-quickchart-complete');\n",
              "    }\n",
              "    (() => {\n",
              "      let quickchartButtonEl =\n",
              "        document.querySelector('#df-82cd7592-b820-4e88-b70f-25ae02f77b61 button');\n",
              "      quickchartButtonEl.style.display =\n",
              "        google.colab.kernel.accessAllowed ? 'block' : 'none';\n",
              "    })();\n",
              "  </script>\n",
              "</div>\n",
              "\n",
              "    </div>\n",
              "  </div>\n"
            ],
            "application/vnd.google.colaboratory.intrinsic+json": {
              "type": "dataframe",
              "variable_name": "iris_df",
              "summary": "{\n  \"name\": \"iris_df\",\n  \"rows\": 150,\n  \"fields\": [\n    {\n      \"column\": \"sepal_length\",\n      \"properties\": {\n        \"dtype\": \"number\",\n        \"std\": 0.8280661279778629,\n        \"min\": 4.3,\n        \"max\": 7.9,\n        \"num_unique_values\": 35,\n        \"samples\": [\n          6.2,\n          4.5,\n          5.6\n        ],\n        \"semantic_type\": \"\",\n        \"description\": \"\"\n      }\n    },\n    {\n      \"column\": \"sepal_width\",\n      \"properties\": {\n        \"dtype\": \"number\",\n        \"std\": 0.435866284936698,\n        \"min\": 2.0,\n        \"max\": 4.4,\n        \"num_unique_values\": 23,\n        \"samples\": [\n          2.3,\n          4.0,\n          3.5\n        ],\n        \"semantic_type\": \"\",\n        \"description\": \"\"\n      }\n    },\n    {\n      \"column\": \"petal_length\",\n      \"properties\": {\n        \"dtype\": \"number\",\n        \"std\": 1.7652982332594667,\n        \"min\": 1.0,\n        \"max\": 6.9,\n        \"num_unique_values\": 43,\n        \"samples\": [\n          6.7,\n          3.8,\n          3.7\n        ],\n        \"semantic_type\": \"\",\n        \"description\": \"\"\n      }\n    },\n    {\n      \"column\": \"petal_width\",\n      \"properties\": {\n        \"dtype\": \"number\",\n        \"std\": 0.7622376689603465,\n        \"min\": 0.1,\n        \"max\": 2.5,\n        \"num_unique_values\": 22,\n        \"samples\": [\n          0.2,\n          1.2,\n          1.3\n        ],\n        \"semantic_type\": \"\",\n        \"description\": \"\"\n      }\n    },\n    {\n      \"column\": \"species\",\n      \"properties\": {\n        \"dtype\": \"category\",\n        \"num_unique_values\": 3,\n        \"samples\": [\n          \"setosa\",\n          \"versicolor\",\n          \"virginica\"\n        ],\n        \"semantic_type\": \"\",\n        \"description\": \"\"\n      }\n    }\n  ]\n}"
            }
          },
          "metadata": {},
          "execution_count": 13
        }
      ]
    },
    {
      "cell_type": "code",
      "source": [
        "## Your code starts here ##\n",
        "for column in iris_df.select_dtypes(include=['float64']).columns:\n",
        "    mean_column = iris_df[column].mean()\n",
        "    std_column = iris_df[column].std()\n",
        "    iris_df[column] = (iris_df[column] - mean_column)/std_column\n",
        "print (iris_df.head())\n",
        "\n",
        "## end ##"
      ],
      "metadata": {
        "id": "w_EbJbsooFmd",
        "colab": {
          "base_uri": "https://localhost:8080/"
        },
        "outputId": "90e307ba-a25a-4307-f55d-e5a2a80a0260"
      },
      "execution_count": null,
      "outputs": [
        {
          "output_type": "stream",
          "name": "stdout",
          "text": [
            "   sepal_length  sepal_width  petal_length  petal_width species\n",
            "0     -0.897674     1.015602     -1.335752    -1.311052  setosa\n",
            "1     -1.139200    -0.131539     -1.335752    -1.311052  setosa\n",
            "2     -1.380727     0.327318     -1.392399    -1.311052  setosa\n",
            "3     -1.501490     0.097889     -1.279104    -1.311052  setosa\n",
            "4     -1.018437     1.245030     -1.335752    -1.311052  setosa\n"
          ]
        }
      ]
    },
    {
      "cell_type": "markdown",
      "source": [
        "## Q2(b)"
      ],
      "metadata": {
        "id": "uybbipqZ04iZ"
      }
    },
    {
      "cell_type": "code",
      "source": [
        "## Your code starts here ##\n",
        "iris_df['mean_zscore'] = iris_df.select_dtypes(include=['float64']).mean(axis=1)\n",
        "sorted_iris_df = iris_df.sort_values(by='mean_zscore', ascending=False)\n",
        "print(sorted_iris_df.head())\n",
        "## end ##"
      ],
      "metadata": {
        "id": "2tKPEoe80KnZ",
        "colab": {
          "base_uri": "https://localhost:8080/"
        },
        "outputId": "810e6cd4-d59e-4850-c71d-9ae4fd46fdd3"
      },
      "execution_count": null,
      "outputs": [
        {
          "output_type": "stream",
          "name": "stdout",
          "text": [
            "     sepal_length  sepal_width  petal_length  petal_width    species  \\\n",
            "117      2.242172     1.703886      1.666574     1.312801  virginica   \n",
            "131      2.483699     1.703886      1.496631     1.050416  virginica   \n",
            "109      1.638355     1.245030      1.326688     1.706379  virginica   \n",
            "135      2.242172    -0.131539      1.326688     1.443994  virginica   \n",
            "105      2.121409    -0.131539      1.609926     1.181609  virginica   \n",
            "\n",
            "     mean_zscore  \n",
            "117     1.731358  \n",
            "131     1.683658  \n",
            "109     1.479113  \n",
            "135     1.220329  \n",
            "105     1.195351  \n"
          ]
        }
      ]
    },
    {
      "cell_type": "markdown",
      "source": [
        "## Q2(c)"
      ],
      "metadata": {
        "id": "X8PFej701QIt"
      }
    },
    {
      "cell_type": "code",
      "source": [
        "## Your code starts here ##\n",
        "species_max_zscores = iris_df.groupby('species')['mean_zscore'].apply(lambda x: x.abs().max()).sort_values()\n",
        "print(species_max_zscores)\n",
        "## end ##"
      ],
      "metadata": {
        "id": "-50Kcu891Knw",
        "colab": {
          "base_uri": "https://localhost:8080/"
        },
        "outputId": "a0cc2e9b-660a-4b6f-ed43-60b35284a923"
      },
      "execution_count": null,
      "outputs": [
        {
          "output_type": "stream",
          "name": "stdout",
          "text": [
            "species\n",
            "versicolor    0.962980\n",
            "setosa        1.483012\n",
            "virginica     1.731358\n",
            "Name: mean_zscore, dtype: float64\n"
          ]
        }
      ]
    }
  ]
}